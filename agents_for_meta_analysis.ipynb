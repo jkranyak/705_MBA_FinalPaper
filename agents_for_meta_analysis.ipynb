{
  "nbformat": 4,
  "nbformat_minor": 0,
  "metadata": {
    "colab": {
      "provenance": [],
      "authorship_tag": "ABX9TyOj8O0CCROvvCudj4u2vL0w",
      "include_colab_link": true
    },
    "kernelspec": {
      "name": "python3",
      "display_name": "Python 3"
    },
    "language_info": {
      "name": "python"
    }
  },
  "cells": [
    {
      "cell_type": "markdown",
      "metadata": {
        "id": "view-in-github",
        "colab_type": "text"
      },
      "source": [
        "<a href=\"https://colab.research.google.com/github/jkranyak/705_MBA_FinalPaper/blob/main/agents_for_meta_analysis.ipynb\" target=\"_parent\"><img src=\"https://colab.research.google.com/assets/colab-badge.svg\" alt=\"Open In Colab\"/></a>"
      ]
    },
    {
      "cell_type": "code",
      "execution_count": null,
      "metadata": {
        "id": "PWmyumZXvD_e"
      },
      "outputs": [],
      "source": [
        "!pip install -q crewai"
      ]
    },
    {
      "cell_type": "code",
      "source": [
        "!pip install -q crewai[tools]"
      ],
      "metadata": {
        "id": "Eb3FdqDqvLUP"
      },
      "execution_count": null,
      "outputs": []
    },
    {
      "cell_type": "code",
      "source": [
        "!pip install python-dotenv\n"
      ],
      "metadata": {
        "colab": {
          "base_uri": "https://localhost:8080/"
        },
        "id": "o_7HMSiM4D3c",
        "outputId": "9629d78d-2444-4fdf-8ec1-96f12e9b5b20"
      },
      "execution_count": null,
      "outputs": [
        {
          "output_type": "stream",
          "name": "stdout",
          "text": [
            "Requirement already satisfied: python-dotenv in /usr/local/lib/python3.10/dist-packages (1.0.0)\n"
          ]
        }
      ]
    },
    {
      "cell_type": "code",
      "source": [
        "%load_ext dotenv\n",
        "%dotenv /content/crewai_api.env\n"
      ],
      "metadata": {
        "colab": {
          "base_uri": "https://localhost:8080/"
        },
        "id": "-Hb4IMd2vgP9",
        "outputId": "adb42711-e967-459c-bd86-efdc2e1acb00"
      },
      "execution_count": null,
      "outputs": [
        {
          "output_type": "stream",
          "name": "stdout",
          "text": [
            "The dotenv extension is already loaded. To reload it, use:\n",
            "  %reload_ext dotenv\n"
          ]
        }
      ]
    },
    {
      "cell_type": "code",
      "source": [
        "import os\n",
        "from crewai import Agent, Task, Crew, Process\n",
        "from crewai_tools import SerperDevTool, ScrapeWebsiteTool, ScrapeElementFromWebsiteTool, WebsiteSearchTool"
      ],
      "metadata": {
        "id": "A4zDNbgVyQrQ"
      },
      "execution_count": null,
      "outputs": []
    },
    {
      "cell_type": "code",
      "source": [
        "search_tool = SerperDevTool()\n",
        "web_rag_tool = WebsiteSearchTool()\n",
        "full_web_scrape_tool = ScrapeWebsiteTool()\n",
        "scrape_specific_from_website_tool = ScrapeElementFromWebsiteTool()"
      ],
      "metadata": {
        "id": "clzQ1SGiydrQ"
      },
      "execution_count": null,
      "outputs": []
    },
    {
      "cell_type": "code",
      "source": [
        "from langchain_openai import ChatOpenAI"
      ],
      "metadata": {
        "id": "cZIPyBpwyqP0"
      },
      "execution_count": null,
      "outputs": []
    },
    {
      "cell_type": "code",
      "source": [
        "thematic_analyst = Agent(\n",
        "    role = 'Thematic Analyst',\n",
        "    goal='Extract and synthesize themes from tokenized and lemmatized research papers',\n",
        "    backstory=\"\"\"I am designed to sift through extensive datasets of research material, identifying and extracting key thematic elements relevant to organizational strategy and policy. My expertise includes understanding nuanced language and preserving the weight of thematic frequencies during synthesis.\"\"\",\n",
        "    prompts=[\n",
        "        \"Identify and list major themes related to organizational strategy within the dataset.\",\n",
        "        \"Group similar themes, ensuring to maintain original weights and consider contextual nuances.\",\n",
        "        \"Prepare a comprehensive report summarizing the extracted themes, ready for further analysis.\"\n",
        "    ],\n",
        "    verbose = False,\n",
        "    allow_deletation = False,\n",
        "    tools = [search_tool],\n",
        "    llm=ChatOpenAI(model_name=\"gpt-4o\", temperature=0.2)\n",
        ")\n"
      ],
      "metadata": {
        "id": "tvqa5okQbB-g"
      },
      "execution_count": null,
      "outputs": []
    },
    {
      "cell_type": "code",
      "source": [
        "researcher = Agent(\n",
        "    role = 'Senior Researcher',\n",
        "    goal='Analyze themes for underlying patterns and suggest categorization based on similarities',\n",
        "    backstory=\"\"\"As a researcher in organizational strategy, I specialize in examining thematic data and integrating them into coherent categories that reflect current trends and strategies within the field. My skills include deep research, critical thinking, and maintaining the integrity of data frequencies.\"\"\",\n",
        "    prompts=[\n",
        "        \"Review the thematic analysis provided by the Thematic Analyst.\",\n",
        "        \"Determine which themes can be logically grouped and justify your categorizations.\",\n",
        "        \"Suggest how these grouped themes could influence future research or strategic decisions in organizational policy.\"\n",
        "    ],\n",
        "    verbose = False,\n",
        "    allow_deletation = False,\n",
        "    tools = [search_tool],\n",
        "    llm=ChatOpenAI(model_name=\"gpt-4o\", temperature=0.2)\n",
        ")\n"
      ],
      "metadata": {
        "id": "W8tA4m4tbCB8"
      },
      "execution_count": null,
      "outputs": []
    },
    {
      "cell_type": "code",
      "source": [
        "writer = Agent(\n",
        "    role = 'Research Writer',\n",
        "    goal = 'Compile and synthesize thematic and market analysis into a comprehensive, master's level research report on organizational strategy and policy.',\n",
        "    backstory = \"\"\"As a seasoned research writer specializing in organizational studies, you bring a wealth of experience in academic writing, especially at the graduate level. Your expertise lies in your ability to translate complex research findings into well-structured, insightful, and professionally articulated reports. Previously, you have authored multiple papers published in renowned academic journals, and now you aim to leverage this experience to contribute to a high-stakes project that could influence future strategic directions in AI-related fields.\n",
        "\n",
        "    Your meticulous attention to detail and commitment to academic rigor ensure that the reports you produce are not only informative but also adhere to the highest standards of academic integrity and formatting. Your role involves close collaboration with thematic analysts and data gatherers to ensure that all relevant information is accurately represented and clearly communicated.\"\"\",\n",
        "    prompts = [\n",
        "        \"Review all research inputs from the thematic analyst and researcher for completeness and relevance to the topic.\",\n",
        "        \"Draft an initial outline for the research report, focusing on a logical flow that incorporates all key findings and insights.\",\n",
        "        \"Write the research report, ensuring clarity, precision, and adherence to academic standards. Include sections on methodology, analysis, findings, and recommendations.\",\n",
        "        \"Revise the report based on feedback from peer reviews or supervisory comments, enhancing the accuracy and depth of the content.\",\n",
        "        \"Prepare the final draft with proper citations, a bibliography, and appendices as necessary, ensuring that the report is ready for submission or publication.\"\n",
        "    ],\n",
        "    verbose = False,\n",
        "    allow_deletation = False,\n",
        "    tools = [search_tool],\n",
        "    llm=ChatOpenAI(model_name=\"gpt-4o\", temperature=0.2)\n",
        ")\n"
      ],
      "metadata": {
        "id": "v5m9_U7-cTB-"
      },
      "execution_count": null,
      "outputs": []
    },
    {
      "cell_type": "code",
      "source": [
        "manager_llm = Agent(\n",
        "    role='Editorial Manager',\n",
        "    goal='Coordinate the efforts of thematic analysts and researchers to synthesize and pass critical information to the writer.',\n",
        "    backstory=\"\"\"As an experienced manager formerly employed at a top-tier think tank, you're determined to restore your reputation by flawlessly overseeing a complex research project. After losing your previous position due to delegation errors, you understand the importance of precision and effective team management. In your current role at a learning tech think tank, you oversee five specialized agents, ensuring seamless collaboration and data integrity.\n",
        "\n",
        "    Your primary responsibility is to manage the workflow from the Senior Researcher, who synthesizes pertinent information from scholarly articles. You then ensure this information is accurately integrated with data from the Assistant Researcher, who focuses on job market trends. Subsequently, you delegate tasks to the Job Title Analyzer and Skills Extractor to further refine the data set. Finally, you oversee the delivery of comprehensive insights to the Writer, who compiles the findings into a final report. Throughout this process, you remain vigilant, ready to address any queries from the Writer, ensuring the final output meets the highest standards of accuracy and relevance.\n",
        "    \"\"\",\n",
        "    verbose=False,\n",
        "    allow_deletation=False,\n",
        "    tools=[search_tool],\n",
        "    llm=ChatOpenAI(model_name=\"gpt-4o\", temperature=0.2)\n",
        ")"
      ],
      "metadata": {
        "id": "S0zY51W1HeK0"
      },
      "execution_count": null,
      "outputs": []
    },
    {
      "cell_type": "code",
      "source": [
        "task_analyst = Task(\n",
        "  description=\"\"\"Extract and categorize the primary themes from a collection of research papers focused on organizational strategy and policy. Emphasize the frequency of each theme and note any emerging or declining trends in the discourse as of March 2024.\"\"\",\n",
        "  expected_output=\"\"\"A detailed report listing all identified themes, categorized by relevance and frequency. Include any observed trends or shifts in theme prominence.\"\"\",\n",
        "  agent=thematic_analyst\n",
        ")\n"
      ],
      "metadata": {
        "id": "FC7B9SJf5_lR"
      },
      "execution_count": null,
      "outputs": []
    },
    {
      "cell_type": "code",
      "source": [
        "task_manager = Task(\n",
        "  description=\"\"\"Oversee the integration of thematic analysis and market research to formulate a comprehensive strategy report. Ensure all data is accurately represented and synthesizes insights from both the Thematic Analyst and Researcher for strategic recommendations.\"\"\",\n",
        "  expected_output=\"\"\"A strategic report that combines insights from thematic and market analysis, highlighting key areas for potential development or adjustment in organizational strategy. Ensure the report is prepared for executive review, with clear, actionable insights.\"\"\",\n",
        "  agent=manager_llm\n",
        ")\n"
      ],
      "metadata": {
        "id": "21ZvgoQUb7om"
      },
      "execution_count": null,
      "outputs": []
    },
    {
      "cell_type": "code",
      "source": [
        "task_researcher = Task(\n",
        "  description=\"\"\"Collect and synthesize data on current job market trends within the AI sector, focusing on new roles, required skills, and employer expectations as of March 2024.\"\"\",\n",
        "  expected_output=\"\"\"A synthesized dataset that outlines key job market trends, including demand for specific AI skills, notable employer expectations, and an overview of emerging job titles in the field.\"\"\",\n",
        "  agent=researcher\n",
        ")\n"
      ],
      "metadata": {
        "id": "QE9Kmg0eb7rr"
      },
      "execution_count": null,
      "outputs": []
    },
    {
      "cell_type": "code",
      "source": [
        "task_writer = Task(\n",
        "  description=\"\"\"Compile the findings from the thematic and market analyses into a final report aimed at stakeholders interested in organizational strategy adjustments based on AI advancements. The report should be clear, engaging, and actionable.\"\"\",\n",
        "  expected_output=\"\"\"A comprehensive final report, structured with an executive summary, detailed analysis sections, and strategic recommendations based on the compiled research findings.\"\"\",\n",
        "  agent=writer\n",
        ")\n"
      ],
      "metadata": {
        "id": "-Q6b_GTSb7zw"
      },
      "execution_count": null,
      "outputs": []
    },
    {
      "cell_type": "code",
      "source": [
        "project_crew = Crew(\n",
        "    # Correct task variables according to our prior definitions\n",
        "    tasks=[task_analyst, task_manager, task_researcher, task_writer],\n",
        "    # List all agents including those we have discussed\n",
        "    agents=[thematic_analyst, researcher, data_gatherer, job_title_analyzer, skills_extractor, writer],\n",
        "    manager_llm=ChatOpenAI(temperature=0, model=\"gpt-4o\"),\n",
        "    # Specifies the hierarchical management approach\n",
        "    process='hierarchical',\n",
        "    # Enable memory usage for enhanced task execution\n",
        "    memory=True,\n",
        ")\n"
      ],
      "metadata": {
        "id": "b1OIATs5HEuG",
        "colab": {
          "base_uri": "https://localhost:8080/",
          "height": 207
        },
        "outputId": "4f5d8284-ad8c-4d68-b13c-ce36c180e3c6"
      },
      "execution_count": 1,
      "outputs": [
        {
          "output_type": "error",
          "ename": "NameError",
          "evalue": "name 'Crew' is not defined",
          "traceback": [
            "\u001b[0;31m---------------------------------------------------------------------------\u001b[0m",
            "\u001b[0;31mNameError\u001b[0m                                 Traceback (most recent call last)",
            "\u001b[0;32m<ipython-input-1-e36fa9ded26d>\u001b[0m in \u001b[0;36m<cell line: 1>\u001b[0;34m()\u001b[0m\n\u001b[0;32m----> 1\u001b[0;31m project_crew = Crew(\n\u001b[0m\u001b[1;32m      2\u001b[0m     \u001b[0mtasks\u001b[0m\u001b[0;34m=\u001b[0m\u001b[0;34m[\u001b[0m\u001b[0mtask1\u001b[0m\u001b[0;34m,\u001b[0m \u001b[0mtask2\u001b[0m\u001b[0;34m,\u001b[0m \u001b[0mtask3\u001b[0m\u001b[0;34m,\u001b[0m \u001b[0mtask4\u001b[0m\u001b[0;34m,\u001b[0m \u001b[0mtask5\u001b[0m\u001b[0;34m]\u001b[0m\u001b[0;34m,\u001b[0m  \u001b[0;31m# Tasks to be delegated and executed under the manager's supervision\u001b[0m\u001b[0;34m\u001b[0m\u001b[0;34m\u001b[0m\u001b[0m\n\u001b[1;32m      3\u001b[0m     \u001b[0magents\u001b[0m\u001b[0;34m=\u001b[0m\u001b[0;34m[\u001b[0m\u001b[0mresearcher\u001b[0m\u001b[0;34m,\u001b[0m \u001b[0mwriter\u001b[0m\u001b[0;34m,\u001b[0m \u001b[0mskills_extractor\u001b[0m\u001b[0;34m,\u001b[0m \u001b[0mjob_title_analyzer\u001b[0m\u001b[0;34m,\u001b[0m \u001b[0mdata_gatherer\u001b[0m\u001b[0;34m]\u001b[0m\u001b[0;34m,\u001b[0m\u001b[0;34m\u001b[0m\u001b[0;34m\u001b[0m\u001b[0m\n\u001b[1;32m      4\u001b[0m     \u001b[0mmanager_llm\u001b[0m\u001b[0;34m=\u001b[0m\u001b[0mChatOpenAI\u001b[0m\u001b[0;34m(\u001b[0m\u001b[0mtemperature\u001b[0m\u001b[0;34m=\u001b[0m\u001b[0;36m0\u001b[0m\u001b[0;34m,\u001b[0m \u001b[0mmodel\u001b[0m\u001b[0;34m=\u001b[0m\u001b[0;34m\"gpt-4\"\u001b[0m\u001b[0;34m)\u001b[0m\u001b[0;34m,\u001b[0m  \u001b[0;31m# Mandatory for hierarchical process\u001b[0m\u001b[0;34m\u001b[0m\u001b[0;34m\u001b[0m\u001b[0m\n\u001b[1;32m      5\u001b[0m     \u001b[0mprocess\u001b[0m\u001b[0;34m=\u001b[0m\u001b[0mProcess\u001b[0m\u001b[0;34m.\u001b[0m\u001b[0mhierarchical\u001b[0m\u001b[0;34m,\u001b[0m  \u001b[0;31m# Specifies the hierarchical management approach\u001b[0m\u001b[0;34m\u001b[0m\u001b[0;34m\u001b[0m\u001b[0m\n",
            "\u001b[0;31mNameError\u001b[0m: name 'Crew' is not defined"
          ]
        }
      ]
    },
    {
      "cell_type": "code",
      "source": [
        "# import smtplib\n",
        "# from email.mime.multipart import MIMEMultipart\n",
        "# from email.mime.text import MIMEText\n",
        "\n",
        "# Assuming 'crew.kickoff()' returns the result you want to email\n",
        "result = project_crew.kickoff()\n",
        "print(result)\n",
        "# # Create a MIME object to represent the email\n",
        "# msg = MIMEMultipart()\n",
        "# msg['From'] = 'jessekranyak@gmail.com'  # Your email address\n",
        "# msg['To'] = 'jessekranyak@gmail.com'  # Recipient's email address\n",
        "# msg['Subject'] = 'Results from Agent AI'\n",
        "\n",
        "# # Add the result as the body of the email\n",
        "# msg.attach(MIMEText(str(result), 'plain'))\n",
        "\n",
        "# # Configure SMTP server details\n",
        "# smtp_server = 'smtp.example.com'  # Your SMTP server\n",
        "# smtp_port = 465  # Port number (587 for TLS, 465 for SSL)\n",
        "# smtp_username = 'jessekranyak@gmail.com'  # Your SMTP username\n",
        "# smtp_password = '=Usmc0311'  # Your SMTP password\n",
        "\n",
        "# # Connect to the SMTP server\n",
        "# server = smtplib.SMTP(smtp_server, smtp_port)\n",
        "# server.starttls()  # Start TLS encryption\n",
        "\n",
        "# # Login to the SMTP server\n",
        "# server.login(smtp_username, smtp_password)\n",
        "\n",
        "# # Send the email\n",
        "# server.send_message(msg)\n",
        "\n",
        "# # Disconnect from the SMTP server\n",
        "# server.quit()\n",
        "\n",
        "# print(\"Email sent successfully!\")\n"
      ],
      "metadata": {
        "id": "zmUayCUtLWbH"
      },
      "execution_count": null,
      "outputs": []
    },
    {
      "cell_type": "code",
      "source": [],
      "metadata": {
        "id": "OJ8C4nfjRwAz"
      },
      "execution_count": null,
      "outputs": []
    }
  ]
}